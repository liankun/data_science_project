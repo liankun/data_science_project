{
 "cells": [
  {
   "cell_type": "markdown",
   "id": "1504b099",
   "metadata": {},
   "source": [
    "# Neuron Network Model "
   ]
  },
  {
   "cell_type": "code",
   "execution_count": 1,
   "id": "a6444c74",
   "metadata": {},
   "outputs": [],
   "source": [
    "import numpy as np\n",
    "import pickle\n",
    "import pandas as pd"
   ]
  },
  {
   "cell_type": "markdown",
   "id": "3f352bc4",
   "metadata": {},
   "source": [
    "## Preprocessing"
   ]
  },
  {
   "cell_type": "code",
   "execution_count": 2,
   "id": "fda863f0",
   "metadata": {},
   "outputs": [],
   "source": [
    "with open('fstAgg.pkl','rb') as handle:\n",
    "    unserialized_data = pickle.load(handle)"
   ]
  },
  {
   "cell_type": "code",
   "execution_count": 3,
   "id": "d0fb1c0a",
   "metadata": {},
   "outputs": [],
   "source": [
    "X_train_df = unserialized_data['X_train_df']\n",
    "X_test_df = unserialized_data['X_test_df']\n",
    "y_train_df = unserialized_data['y_train_df']\n",
    "y_test_df = unserialized_data['y_test_df']"
   ]
  },
  {
   "cell_type": "code",
   "execution_count": 4,
   "id": "81cb0e0e",
   "metadata": {},
   "outputs": [],
   "source": [
    "X_train_df = X_train_df.astype(\"float\")\n",
    "X_test_df = X_test_df.astype(\"float\")"
   ]
  },
  {
   "cell_type": "code",
   "execution_count": 5,
   "id": "d63bd6a1",
   "metadata": {},
   "outputs": [],
   "source": [
    "y_train_df.drop(columns=['zip'],axis=1,inplace=True)"
   ]
  },
  {
   "cell_type": "code",
   "execution_count": 6,
   "id": "bea2759f",
   "metadata": {},
   "outputs": [],
   "source": [
    "y_train_df=y_train_df.astype('float')"
   ]
  },
  {
   "cell_type": "code",
   "execution_count": 7,
   "id": "1a88a7bb",
   "metadata": {},
   "outputs": [],
   "source": [
    "y_test_df['LABEL_bubbleStore_cnt_fst_agg'] = y_test_df['LABEL_bubbleStore_cnt_fst_agg'].astype('float')"
   ]
  },
  {
   "cell_type": "code",
   "execution_count": 59,
   "id": "bda282c8",
   "metadata": {},
   "outputs": [
    {
     "data": {
      "text/html": [
       "<div>\n",
       "<style scoped>\n",
       "    .dataframe tbody tr th:only-of-type {\n",
       "        vertical-align: middle;\n",
       "    }\n",
       "\n",
       "    .dataframe tbody tr th {\n",
       "        vertical-align: top;\n",
       "    }\n",
       "\n",
       "    .dataframe thead th {\n",
       "        text-align: right;\n",
       "    }\n",
       "</style>\n",
       "<table border=\"1\" class=\"dataframe\">\n",
       "  <thead>\n",
       "    <tr style=\"text-align: right;\">\n",
       "      <th></th>\n",
       "      <th>college_cnt_fst_agg</th>\n",
       "      <th>walmart_cnt_fst_agg</th>\n",
       "      <th>Num_Mcdonalds_fst_agg</th>\n",
       "      <th>Num_Starbucks_fst_agg</th>\n",
       "      <th>Num_Teavana_fst_agg</th>\n",
       "      <th>population_total_fst_agg</th>\n",
       "      <th>pop_under19_fst_agg</th>\n",
       "      <th>pop_19To34_fst_agg</th>\n",
       "      <th>pop_35To54_fst_agg</th>\n",
       "      <th>pop_55AndOver_fst_agg</th>\n",
       "      <th>...</th>\n",
       "      <th>pop_householdIncome_under50K_fst_agg</th>\n",
       "      <th>pop_householdIncome_50Kto100K_fst_agg</th>\n",
       "      <th>pop_householdIncome_over100K_fst_agg</th>\n",
       "      <th>pop_belowPovertyThreshold_fst_agg</th>\n",
       "      <th>income_median_fst_agg</th>\n",
       "      <th>shopping_mall_cnt_fst_agg</th>\n",
       "      <th>pop_density_fst_agg</th>\n",
       "      <th>selfstorage_count_fst_agg</th>\n",
       "      <th>selfstorage_area_fst_agg</th>\n",
       "      <th>costco_count_fst_agg</th>\n",
       "    </tr>\n",
       "  </thead>\n",
       "  <tbody>\n",
       "    <tr>\n",
       "      <th>0</th>\n",
       "      <td>0.001445</td>\n",
       "      <td>0.001094</td>\n",
       "      <td>0.001483</td>\n",
       "      <td>0.000000</td>\n",
       "      <td>0.0</td>\n",
       "      <td>0.004711</td>\n",
       "      <td>0.004084</td>\n",
       "      <td>0.004518</td>\n",
       "      <td>0.004117</td>\n",
       "      <td>0.004878</td>\n",
       "      <td>...</td>\n",
       "      <td>0.004722</td>\n",
       "      <td>0.004328</td>\n",
       "      <td>0.004533</td>\n",
       "      <td>0.004374</td>\n",
       "      <td>0.005502</td>\n",
       "      <td>0.000000</td>\n",
       "      <td>0.004532</td>\n",
       "      <td>0.000799</td>\n",
       "      <td>0.001659</td>\n",
       "      <td>0.003198</td>\n",
       "    </tr>\n",
       "    <tr>\n",
       "      <th>1</th>\n",
       "      <td>0.001827</td>\n",
       "      <td>0.000000</td>\n",
       "      <td>0.002181</td>\n",
       "      <td>0.000000</td>\n",
       "      <td>0.0</td>\n",
       "      <td>0.005549</td>\n",
       "      <td>0.005449</td>\n",
       "      <td>0.005383</td>\n",
       "      <td>0.005398</td>\n",
       "      <td>0.005684</td>\n",
       "      <td>...</td>\n",
       "      <td>0.005810</td>\n",
       "      <td>0.005619</td>\n",
       "      <td>0.005142</td>\n",
       "      <td>0.002455</td>\n",
       "      <td>0.005461</td>\n",
       "      <td>0.000000</td>\n",
       "      <td>0.004583</td>\n",
       "      <td>0.002293</td>\n",
       "      <td>0.001591</td>\n",
       "      <td>0.000000</td>\n",
       "    </tr>\n",
       "    <tr>\n",
       "      <th>2</th>\n",
       "      <td>0.003064</td>\n",
       "      <td>0.001548</td>\n",
       "      <td>0.002151</td>\n",
       "      <td>0.002223</td>\n",
       "      <td>0.0</td>\n",
       "      <td>0.004783</td>\n",
       "      <td>0.004467</td>\n",
       "      <td>0.005067</td>\n",
       "      <td>0.004748</td>\n",
       "      <td>0.004186</td>\n",
       "      <td>...</td>\n",
       "      <td>0.004834</td>\n",
       "      <td>0.005005</td>\n",
       "      <td>0.003586</td>\n",
       "      <td>-0.000547</td>\n",
       "      <td>0.005446</td>\n",
       "      <td>0.002211</td>\n",
       "      <td>0.004138</td>\n",
       "      <td>0.001131</td>\n",
       "      <td>0.000397</td>\n",
       "      <td>0.000000</td>\n",
       "    </tr>\n",
       "    <tr>\n",
       "      <th>3</th>\n",
       "      <td>0.003076</td>\n",
       "      <td>0.000445</td>\n",
       "      <td>0.001058</td>\n",
       "      <td>0.000639</td>\n",
       "      <td>0.0</td>\n",
       "      <td>0.005033</td>\n",
       "      <td>0.004775</td>\n",
       "      <td>0.004622</td>\n",
       "      <td>0.004973</td>\n",
       "      <td>0.004710</td>\n",
       "      <td>...</td>\n",
       "      <td>0.004683</td>\n",
       "      <td>0.004906</td>\n",
       "      <td>0.004777</td>\n",
       "      <td>0.003063</td>\n",
       "      <td>0.005975</td>\n",
       "      <td>0.001389</td>\n",
       "      <td>0.004949</td>\n",
       "      <td>0.000686</td>\n",
       "      <td>0.000744</td>\n",
       "      <td>0.000000</td>\n",
       "    </tr>\n",
       "    <tr>\n",
       "      <th>4</th>\n",
       "      <td>0.001202</td>\n",
       "      <td>0.000911</td>\n",
       "      <td>0.000844</td>\n",
       "      <td>0.001308</td>\n",
       "      <td>0.0</td>\n",
       "      <td>0.003475</td>\n",
       "      <td>0.003179</td>\n",
       "      <td>0.003063</td>\n",
       "      <td>0.003179</td>\n",
       "      <td>0.003363</td>\n",
       "      <td>...</td>\n",
       "      <td>0.003413</td>\n",
       "      <td>0.003544</td>\n",
       "      <td>0.001710</td>\n",
       "      <td>0.002341</td>\n",
       "      <td>0.005305</td>\n",
       "      <td>0.002051</td>\n",
       "      <td>0.005170</td>\n",
       "      <td>0.000000</td>\n",
       "      <td>0.000000</td>\n",
       "      <td>0.000000</td>\n",
       "    </tr>\n",
       "  </tbody>\n",
       "</table>\n",
       "<p>5 rows × 32 columns</p>\n",
       "</div>"
      ],
      "text/plain": [
       "   college_cnt_fst_agg  walmart_cnt_fst_agg  Num_Mcdonalds_fst_agg  \\\n",
       "0             0.001445             0.001094               0.001483   \n",
       "1             0.001827             0.000000               0.002181   \n",
       "2             0.003064             0.001548               0.002151   \n",
       "3             0.003076             0.000445               0.001058   \n",
       "4             0.001202             0.000911               0.000844   \n",
       "\n",
       "   Num_Starbucks_fst_agg  Num_Teavana_fst_agg  population_total_fst_agg  \\\n",
       "0               0.000000                  0.0                  0.004711   \n",
       "1               0.000000                  0.0                  0.005549   \n",
       "2               0.002223                  0.0                  0.004783   \n",
       "3               0.000639                  0.0                  0.005033   \n",
       "4               0.001308                  0.0                  0.003475   \n",
       "\n",
       "   pop_under19_fst_agg  pop_19To34_fst_agg  pop_35To54_fst_agg  \\\n",
       "0             0.004084            0.004518            0.004117   \n",
       "1             0.005449            0.005383            0.005398   \n",
       "2             0.004467            0.005067            0.004748   \n",
       "3             0.004775            0.004622            0.004973   \n",
       "4             0.003179            0.003063            0.003179   \n",
       "\n",
       "   pop_55AndOver_fst_agg  ...  pop_householdIncome_under50K_fst_agg  \\\n",
       "0               0.004878  ...                              0.004722   \n",
       "1               0.005684  ...                              0.005810   \n",
       "2               0.004186  ...                              0.004834   \n",
       "3               0.004710  ...                              0.004683   \n",
       "4               0.003363  ...                              0.003413   \n",
       "\n",
       "   pop_householdIncome_50Kto100K_fst_agg  \\\n",
       "0                               0.004328   \n",
       "1                               0.005619   \n",
       "2                               0.005005   \n",
       "3                               0.004906   \n",
       "4                               0.003544   \n",
       "\n",
       "   pop_householdIncome_over100K_fst_agg  pop_belowPovertyThreshold_fst_agg  \\\n",
       "0                              0.004533                           0.004374   \n",
       "1                              0.005142                           0.002455   \n",
       "2                              0.003586                          -0.000547   \n",
       "3                              0.004777                           0.003063   \n",
       "4                              0.001710                           0.002341   \n",
       "\n",
       "   income_median_fst_agg  shopping_mall_cnt_fst_agg  pop_density_fst_agg  \\\n",
       "0               0.005502                   0.000000             0.004532   \n",
       "1               0.005461                   0.000000             0.004583   \n",
       "2               0.005446                   0.002211             0.004138   \n",
       "3               0.005975                   0.001389             0.004949   \n",
       "4               0.005305                   0.002051             0.005170   \n",
       "\n",
       "   selfstorage_count_fst_agg  selfstorage_area_fst_agg  costco_count_fst_agg  \n",
       "0                   0.000799                  0.001659              0.003198  \n",
       "1                   0.002293                  0.001591              0.000000  \n",
       "2                   0.001131                  0.000397              0.000000  \n",
       "3                   0.000686                  0.000744              0.000000  \n",
       "4                   0.000000                  0.000000              0.000000  \n",
       "\n",
       "[5 rows x 32 columns]"
      ]
     },
     "execution_count": 59,
     "metadata": {},
     "output_type": "execute_result"
    }
   ],
   "source": [
    "X_train_df.head()"
   ]
  },
  {
   "cell_type": "markdown",
   "id": "3a3d63eb",
   "metadata": {},
   "source": [
    "## Building Model"
   ]
  },
  {
   "cell_type": "code",
   "execution_count": 8,
   "id": "101f80d0",
   "metadata": {},
   "outputs": [],
   "source": [
    "import torch\n",
    "from torch import nn\n",
    "from torch.utils.data import DataLoader\n",
    "from sklearn.model_selection import train_test_split\n",
    "import torch.optim as optim\n",
    "import torch.nn.functional as F"
   ]
  },
  {
   "cell_type": "code",
   "execution_count": 68,
   "id": "c7551ea8",
   "metadata": {},
   "outputs": [],
   "source": [
    "class MyNN(nn.Module):\n",
    "    def __init__(self, in_num,out_num):\n",
    "        super(MyNN,self).__init__()\n",
    "        self.flatten = nn.Flatten()\n",
    "        self.in_node = in_num\n",
    "        self.out_node = out_num\n",
    "        self.linear_relu_stack = nn.Sequential(\n",
    "            nn.Linear(in_num,64),\n",
    "            nn.ReLU(),\n",
    "            nn.Linear(32,16),\n",
    "            nn.ReLU(),\n",
    "            nn.Linear(16 ,out_num),\n",
    "        )\n",
    "        \n",
    "    def forward(self,x):\n",
    "        logits = self.linear_relu_stack(x)\n",
    "        return logits"
   ]
  },
  {
   "cell_type": "code",
   "execution_count": 10,
   "id": "def01e29",
   "metadata": {},
   "outputs": [],
   "source": [
    "#the value is so small \n",
    "# scale to a proper value\n",
    "y_train_100x_df = y_train_df*100"
   ]
  },
  {
   "cell_type": "code",
   "execution_count": 12,
   "id": "f2348b88",
   "metadata": {},
   "outputs": [],
   "source": [
    "X_train_100x_df = X_train_df*100"
   ]
  },
  {
   "cell_type": "code",
   "execution_count": 13,
   "id": "710fb322",
   "metadata": {},
   "outputs": [],
   "source": [
    "X_test_100x_df = X_test_df*100"
   ]
  },
  {
   "cell_type": "code",
   "execution_count": 14,
   "id": "a9828699",
   "metadata": {},
   "outputs": [
    {
     "data": {
      "text/html": [
       "<div>\n",
       "<style scoped>\n",
       "    .dataframe tbody tr th:only-of-type {\n",
       "        vertical-align: middle;\n",
       "    }\n",
       "\n",
       "    .dataframe tbody tr th {\n",
       "        vertical-align: top;\n",
       "    }\n",
       "\n",
       "    .dataframe thead th {\n",
       "        text-align: right;\n",
       "    }\n",
       "</style>\n",
       "<table border=\"1\" class=\"dataframe\">\n",
       "  <thead>\n",
       "    <tr style=\"text-align: right;\">\n",
       "      <th></th>\n",
       "      <th>college_cnt_fst_agg</th>\n",
       "      <th>walmart_cnt_fst_agg</th>\n",
       "      <th>Num_Mcdonalds_fst_agg</th>\n",
       "      <th>Num_Starbucks_fst_agg</th>\n",
       "      <th>Num_Teavana_fst_agg</th>\n",
       "      <th>population_total_fst_agg</th>\n",
       "      <th>pop_under19_fst_agg</th>\n",
       "      <th>pop_19To34_fst_agg</th>\n",
       "      <th>pop_35To54_fst_agg</th>\n",
       "      <th>pop_55AndOver_fst_agg</th>\n",
       "      <th>...</th>\n",
       "      <th>pop_householdIncome_under50K_fst_agg</th>\n",
       "      <th>pop_householdIncome_50Kto100K_fst_agg</th>\n",
       "      <th>pop_householdIncome_over100K_fst_agg</th>\n",
       "      <th>pop_belowPovertyThreshold_fst_agg</th>\n",
       "      <th>income_median_fst_agg</th>\n",
       "      <th>shopping_mall_cnt_fst_agg</th>\n",
       "      <th>pop_density_fst_agg</th>\n",
       "      <th>selfstorage_count_fst_agg</th>\n",
       "      <th>selfstorage_area_fst_agg</th>\n",
       "      <th>costco_count_fst_agg</th>\n",
       "    </tr>\n",
       "  </thead>\n",
       "  <tbody>\n",
       "    <tr>\n",
       "      <th>0</th>\n",
       "      <td>0.144459</td>\n",
       "      <td>0.109441</td>\n",
       "      <td>0.148328</td>\n",
       "      <td>0.000000</td>\n",
       "      <td>0.0</td>\n",
       "      <td>0.471078</td>\n",
       "      <td>0.408411</td>\n",
       "      <td>0.451771</td>\n",
       "      <td>0.411742</td>\n",
       "      <td>0.487829</td>\n",
       "      <td>...</td>\n",
       "      <td>0.472217</td>\n",
       "      <td>0.432816</td>\n",
       "      <td>0.453264</td>\n",
       "      <td>0.437378</td>\n",
       "      <td>0.550199</td>\n",
       "      <td>0.000000</td>\n",
       "      <td>0.453200</td>\n",
       "      <td>0.079940</td>\n",
       "      <td>0.165941</td>\n",
       "      <td>0.319804</td>\n",
       "    </tr>\n",
       "    <tr>\n",
       "      <th>1</th>\n",
       "      <td>0.182720</td>\n",
       "      <td>0.000000</td>\n",
       "      <td>0.218137</td>\n",
       "      <td>0.000000</td>\n",
       "      <td>0.0</td>\n",
       "      <td>0.554857</td>\n",
       "      <td>0.544910</td>\n",
       "      <td>0.538296</td>\n",
       "      <td>0.539808</td>\n",
       "      <td>0.568352</td>\n",
       "      <td>...</td>\n",
       "      <td>0.580966</td>\n",
       "      <td>0.561905</td>\n",
       "      <td>0.514250</td>\n",
       "      <td>0.245542</td>\n",
       "      <td>0.546095</td>\n",
       "      <td>0.000000</td>\n",
       "      <td>0.458318</td>\n",
       "      <td>0.229312</td>\n",
       "      <td>0.159059</td>\n",
       "      <td>0.000000</td>\n",
       "    </tr>\n",
       "    <tr>\n",
       "      <th>2</th>\n",
       "      <td>0.306443</td>\n",
       "      <td>0.154773</td>\n",
       "      <td>0.215086</td>\n",
       "      <td>0.222262</td>\n",
       "      <td>0.0</td>\n",
       "      <td>0.478329</td>\n",
       "      <td>0.446723</td>\n",
       "      <td>0.506680</td>\n",
       "      <td>0.474807</td>\n",
       "      <td>0.418609</td>\n",
       "      <td>...</td>\n",
       "      <td>0.483410</td>\n",
       "      <td>0.500492</td>\n",
       "      <td>0.358580</td>\n",
       "      <td>-0.054743</td>\n",
       "      <td>0.544593</td>\n",
       "      <td>0.221056</td>\n",
       "      <td>0.413774</td>\n",
       "      <td>0.113052</td>\n",
       "      <td>0.039667</td>\n",
       "      <td>0.000000</td>\n",
       "    </tr>\n",
       "    <tr>\n",
       "      <th>3</th>\n",
       "      <td>0.307608</td>\n",
       "      <td>0.044525</td>\n",
       "      <td>0.105771</td>\n",
       "      <td>0.063940</td>\n",
       "      <td>0.0</td>\n",
       "      <td>0.503326</td>\n",
       "      <td>0.477477</td>\n",
       "      <td>0.462177</td>\n",
       "      <td>0.497255</td>\n",
       "      <td>0.471029</td>\n",
       "      <td>...</td>\n",
       "      <td>0.468263</td>\n",
       "      <td>0.490597</td>\n",
       "      <td>0.477745</td>\n",
       "      <td>0.306349</td>\n",
       "      <td>0.597513</td>\n",
       "      <td>0.138929</td>\n",
       "      <td>0.494906</td>\n",
       "      <td>0.068564</td>\n",
       "      <td>0.074379</td>\n",
       "      <td>0.000000</td>\n",
       "    </tr>\n",
       "    <tr>\n",
       "      <th>4</th>\n",
       "      <td>0.120197</td>\n",
       "      <td>0.091060</td>\n",
       "      <td>0.084364</td>\n",
       "      <td>0.130767</td>\n",
       "      <td>0.0</td>\n",
       "      <td>0.347522</td>\n",
       "      <td>0.317921</td>\n",
       "      <td>0.306335</td>\n",
       "      <td>0.317908</td>\n",
       "      <td>0.336258</td>\n",
       "      <td>...</td>\n",
       "      <td>0.341296</td>\n",
       "      <td>0.354397</td>\n",
       "      <td>0.170958</td>\n",
       "      <td>0.234081</td>\n",
       "      <td>0.530492</td>\n",
       "      <td>0.205147</td>\n",
       "      <td>0.516993</td>\n",
       "      <td>0.000000</td>\n",
       "      <td>0.000000</td>\n",
       "      <td>0.000000</td>\n",
       "    </tr>\n",
       "  </tbody>\n",
       "</table>\n",
       "<p>5 rows × 32 columns</p>\n",
       "</div>"
      ],
      "text/plain": [
       "   college_cnt_fst_agg  walmart_cnt_fst_agg  Num_Mcdonalds_fst_agg  \\\n",
       "0             0.144459             0.109441               0.148328   \n",
       "1             0.182720             0.000000               0.218137   \n",
       "2             0.306443             0.154773               0.215086   \n",
       "3             0.307608             0.044525               0.105771   \n",
       "4             0.120197             0.091060               0.084364   \n",
       "\n",
       "   Num_Starbucks_fst_agg  Num_Teavana_fst_agg  population_total_fst_agg  \\\n",
       "0               0.000000                  0.0                  0.471078   \n",
       "1               0.000000                  0.0                  0.554857   \n",
       "2               0.222262                  0.0                  0.478329   \n",
       "3               0.063940                  0.0                  0.503326   \n",
       "4               0.130767                  0.0                  0.347522   \n",
       "\n",
       "   pop_under19_fst_agg  pop_19To34_fst_agg  pop_35To54_fst_agg  \\\n",
       "0             0.408411            0.451771            0.411742   \n",
       "1             0.544910            0.538296            0.539808   \n",
       "2             0.446723            0.506680            0.474807   \n",
       "3             0.477477            0.462177            0.497255   \n",
       "4             0.317921            0.306335            0.317908   \n",
       "\n",
       "   pop_55AndOver_fst_agg  ...  pop_householdIncome_under50K_fst_agg  \\\n",
       "0               0.487829  ...                              0.472217   \n",
       "1               0.568352  ...                              0.580966   \n",
       "2               0.418609  ...                              0.483410   \n",
       "3               0.471029  ...                              0.468263   \n",
       "4               0.336258  ...                              0.341296   \n",
       "\n",
       "   pop_householdIncome_50Kto100K_fst_agg  \\\n",
       "0                               0.432816   \n",
       "1                               0.561905   \n",
       "2                               0.500492   \n",
       "3                               0.490597   \n",
       "4                               0.354397   \n",
       "\n",
       "   pop_householdIncome_over100K_fst_agg  pop_belowPovertyThreshold_fst_agg  \\\n",
       "0                              0.453264                           0.437378   \n",
       "1                              0.514250                           0.245542   \n",
       "2                              0.358580                          -0.054743   \n",
       "3                              0.477745                           0.306349   \n",
       "4                              0.170958                           0.234081   \n",
       "\n",
       "   income_median_fst_agg  shopping_mall_cnt_fst_agg  pop_density_fst_agg  \\\n",
       "0               0.550199                   0.000000             0.453200   \n",
       "1               0.546095                   0.000000             0.458318   \n",
       "2               0.544593                   0.221056             0.413774   \n",
       "3               0.597513                   0.138929             0.494906   \n",
       "4               0.530492                   0.205147             0.516993   \n",
       "\n",
       "   selfstorage_count_fst_agg  selfstorage_area_fst_agg  costco_count_fst_agg  \n",
       "0                   0.079940                  0.165941              0.319804  \n",
       "1                   0.229312                  0.159059              0.000000  \n",
       "2                   0.113052                  0.039667              0.000000  \n",
       "3                   0.068564                  0.074379              0.000000  \n",
       "4                   0.000000                  0.000000              0.000000  \n",
       "\n",
       "[5 rows x 32 columns]"
      ]
     },
     "execution_count": 14,
     "metadata": {},
     "output_type": "execute_result"
    }
   ],
   "source": [
    "X_train_100x_df.head()"
   ]
  },
  {
   "cell_type": "code",
   "execution_count": 23,
   "id": "50e13f8d",
   "metadata": {},
   "outputs": [],
   "source": [
    "# split into train and valid data\n",
    "X_train, X_valid,y_train,y_valid = train_test_split(X_train_100x_df,y_train_100x_df,test_size=0.3)"
   ]
  },
  {
   "cell_type": "code",
   "execution_count": 26,
   "id": "6cdb2f71",
   "metadata": {},
   "outputs": [
    {
     "data": {
      "text/html": [
       "<div>\n",
       "<style scoped>\n",
       "    .dataframe tbody tr th:only-of-type {\n",
       "        vertical-align: middle;\n",
       "    }\n",
       "\n",
       "    .dataframe tbody tr th {\n",
       "        vertical-align: top;\n",
       "    }\n",
       "\n",
       "    .dataframe thead th {\n",
       "        text-align: right;\n",
       "    }\n",
       "</style>\n",
       "<table border=\"1\" class=\"dataframe\">\n",
       "  <thead>\n",
       "    <tr style=\"text-align: right;\">\n",
       "      <th></th>\n",
       "      <th>college_cnt_fst_agg</th>\n",
       "      <th>walmart_cnt_fst_agg</th>\n",
       "      <th>Num_Mcdonalds_fst_agg</th>\n",
       "      <th>Num_Starbucks_fst_agg</th>\n",
       "      <th>Num_Teavana_fst_agg</th>\n",
       "      <th>population_total_fst_agg</th>\n",
       "      <th>pop_under19_fst_agg</th>\n",
       "      <th>pop_19To34_fst_agg</th>\n",
       "      <th>pop_35To54_fst_agg</th>\n",
       "      <th>pop_55AndOver_fst_agg</th>\n",
       "      <th>...</th>\n",
       "      <th>pop_householdIncome_under50K_fst_agg</th>\n",
       "      <th>pop_householdIncome_50Kto100K_fst_agg</th>\n",
       "      <th>pop_householdIncome_over100K_fst_agg</th>\n",
       "      <th>pop_belowPovertyThreshold_fst_agg</th>\n",
       "      <th>income_median_fst_agg</th>\n",
       "      <th>shopping_mall_cnt_fst_agg</th>\n",
       "      <th>pop_density_fst_agg</th>\n",
       "      <th>selfstorage_count_fst_agg</th>\n",
       "      <th>selfstorage_area_fst_agg</th>\n",
       "      <th>costco_count_fst_agg</th>\n",
       "    </tr>\n",
       "  </thead>\n",
       "  <tbody>\n",
       "    <tr>\n",
       "      <th>14079</th>\n",
       "      <td>0.000000</td>\n",
       "      <td>0.138433</td>\n",
       "      <td>0.320631</td>\n",
       "      <td>0.099398</td>\n",
       "      <td>0.0</td>\n",
       "      <td>0.505865</td>\n",
       "      <td>0.503895</td>\n",
       "      <td>0.469516</td>\n",
       "      <td>0.490589</td>\n",
       "      <td>0.494531</td>\n",
       "      <td>...</td>\n",
       "      <td>0.444986</td>\n",
       "      <td>0.475336</td>\n",
       "      <td>0.538390</td>\n",
       "      <td>0.329633</td>\n",
       "      <td>0.565073</td>\n",
       "      <td>0.000000</td>\n",
       "      <td>0.463349</td>\n",
       "      <td>0.303351</td>\n",
       "      <td>0.388927</td>\n",
       "      <td>0.000000</td>\n",
       "    </tr>\n",
       "    <tr>\n",
       "      <th>10286</th>\n",
       "      <td>0.266213</td>\n",
       "      <td>0.247963</td>\n",
       "      <td>0.364715</td>\n",
       "      <td>0.238030</td>\n",
       "      <td>0.0</td>\n",
       "      <td>0.613156</td>\n",
       "      <td>0.591771</td>\n",
       "      <td>0.597830</td>\n",
       "      <td>0.607744</td>\n",
       "      <td>0.606114</td>\n",
       "      <td>...</td>\n",
       "      <td>0.587360</td>\n",
       "      <td>0.605625</td>\n",
       "      <td>0.578810</td>\n",
       "      <td>0.354317</td>\n",
       "      <td>0.585598</td>\n",
       "      <td>0.335872</td>\n",
       "      <td>0.627128</td>\n",
       "      <td>0.262632</td>\n",
       "      <td>0.306297</td>\n",
       "      <td>0.092365</td>\n",
       "    </tr>\n",
       "    <tr>\n",
       "      <th>5515</th>\n",
       "      <td>0.115825</td>\n",
       "      <td>0.000000</td>\n",
       "      <td>0.162590</td>\n",
       "      <td>0.882074</td>\n",
       "      <td>0.0</td>\n",
       "      <td>0.326547</td>\n",
       "      <td>0.286897</td>\n",
       "      <td>0.252164</td>\n",
       "      <td>0.300052</td>\n",
       "      <td>0.331190</td>\n",
       "      <td>...</td>\n",
       "      <td>0.320735</td>\n",
       "      <td>0.301788</td>\n",
       "      <td>0.278291</td>\n",
       "      <td>-0.088607</td>\n",
       "      <td>0.558615</td>\n",
       "      <td>0.000000</td>\n",
       "      <td>0.114991</td>\n",
       "      <td>0.000000</td>\n",
       "      <td>0.000000</td>\n",
       "      <td>0.000000</td>\n",
       "    </tr>\n",
       "    <tr>\n",
       "      <th>2821</th>\n",
       "      <td>0.144963</td>\n",
       "      <td>0.105147</td>\n",
       "      <td>0.189210</td>\n",
       "      <td>0.000000</td>\n",
       "      <td>0.0</td>\n",
       "      <td>0.453926</td>\n",
       "      <td>0.439373</td>\n",
       "      <td>0.418412</td>\n",
       "      <td>0.439166</td>\n",
       "      <td>0.439389</td>\n",
       "      <td>...</td>\n",
       "      <td>0.478114</td>\n",
       "      <td>0.420117</td>\n",
       "      <td>0.399975</td>\n",
       "      <td>0.294279</td>\n",
       "      <td>0.524219</td>\n",
       "      <td>0.000000</td>\n",
       "      <td>0.328839</td>\n",
       "      <td>0.076804</td>\n",
       "      <td>0.059415</td>\n",
       "      <td>0.000000</td>\n",
       "    </tr>\n",
       "    <tr>\n",
       "      <th>6318</th>\n",
       "      <td>0.000000</td>\n",
       "      <td>0.309546</td>\n",
       "      <td>0.203045</td>\n",
       "      <td>0.203597</td>\n",
       "      <td>0.0</td>\n",
       "      <td>0.387818</td>\n",
       "      <td>0.337206</td>\n",
       "      <td>0.336167</td>\n",
       "      <td>0.355707</td>\n",
       "      <td>0.405380</td>\n",
       "      <td>...</td>\n",
       "      <td>0.369075</td>\n",
       "      <td>0.376098</td>\n",
       "      <td>0.373862</td>\n",
       "      <td>0.766708</td>\n",
       "      <td>0.514980</td>\n",
       "      <td>0.091965</td>\n",
       "      <td>0.242794</td>\n",
       "      <td>0.000000</td>\n",
       "      <td>0.000000</td>\n",
       "      <td>0.406464</td>\n",
       "    </tr>\n",
       "  </tbody>\n",
       "</table>\n",
       "<p>5 rows × 32 columns</p>\n",
       "</div>"
      ],
      "text/plain": [
       "       college_cnt_fst_agg  walmart_cnt_fst_agg  Num_Mcdonalds_fst_agg  \\\n",
       "14079             0.000000             0.138433               0.320631   \n",
       "10286             0.266213             0.247963               0.364715   \n",
       "5515              0.115825             0.000000               0.162590   \n",
       "2821              0.144963             0.105147               0.189210   \n",
       "6318              0.000000             0.309546               0.203045   \n",
       "\n",
       "       Num_Starbucks_fst_agg  Num_Teavana_fst_agg  population_total_fst_agg  \\\n",
       "14079               0.099398                  0.0                  0.505865   \n",
       "10286               0.238030                  0.0                  0.613156   \n",
       "5515                0.882074                  0.0                  0.326547   \n",
       "2821                0.000000                  0.0                  0.453926   \n",
       "6318                0.203597                  0.0                  0.387818   \n",
       "\n",
       "       pop_under19_fst_agg  pop_19To34_fst_agg  pop_35To54_fst_agg  \\\n",
       "14079             0.503895            0.469516            0.490589   \n",
       "10286             0.591771            0.597830            0.607744   \n",
       "5515              0.286897            0.252164            0.300052   \n",
       "2821              0.439373            0.418412            0.439166   \n",
       "6318              0.337206            0.336167            0.355707   \n",
       "\n",
       "       pop_55AndOver_fst_agg  ...  pop_householdIncome_under50K_fst_agg  \\\n",
       "14079               0.494531  ...                              0.444986   \n",
       "10286               0.606114  ...                              0.587360   \n",
       "5515                0.331190  ...                              0.320735   \n",
       "2821                0.439389  ...                              0.478114   \n",
       "6318                0.405380  ...                              0.369075   \n",
       "\n",
       "       pop_householdIncome_50Kto100K_fst_agg  \\\n",
       "14079                               0.475336   \n",
       "10286                               0.605625   \n",
       "5515                                0.301788   \n",
       "2821                                0.420117   \n",
       "6318                                0.376098   \n",
       "\n",
       "       pop_householdIncome_over100K_fst_agg  \\\n",
       "14079                              0.538390   \n",
       "10286                              0.578810   \n",
       "5515                               0.278291   \n",
       "2821                               0.399975   \n",
       "6318                               0.373862   \n",
       "\n",
       "       pop_belowPovertyThreshold_fst_agg  income_median_fst_agg  \\\n",
       "14079                           0.329633               0.565073   \n",
       "10286                           0.354317               0.585598   \n",
       "5515                           -0.088607               0.558615   \n",
       "2821                            0.294279               0.524219   \n",
       "6318                            0.766708               0.514980   \n",
       "\n",
       "       shopping_mall_cnt_fst_agg  pop_density_fst_agg  \\\n",
       "14079                   0.000000             0.463349   \n",
       "10286                   0.335872             0.627128   \n",
       "5515                    0.000000             0.114991   \n",
       "2821                    0.000000             0.328839   \n",
       "6318                    0.091965             0.242794   \n",
       "\n",
       "       selfstorage_count_fst_agg  selfstorage_area_fst_agg  \\\n",
       "14079                   0.303351                  0.388927   \n",
       "10286                   0.262632                  0.306297   \n",
       "5515                    0.000000                  0.000000   \n",
       "2821                    0.076804                  0.059415   \n",
       "6318                    0.000000                  0.000000   \n",
       "\n",
       "       costco_count_fst_agg  \n",
       "14079              0.000000  \n",
       "10286              0.092365  \n",
       "5515               0.000000  \n",
       "2821               0.000000  \n",
       "6318               0.406464  \n",
       "\n",
       "[5 rows x 32 columns]"
      ]
     },
     "execution_count": 26,
     "metadata": {},
     "output_type": "execute_result"
    }
   ],
   "source": [
    "X_train.head()"
   ]
  },
  {
   "cell_type": "code",
   "execution_count": 20,
   "id": "77527769",
   "metadata": {},
   "outputs": [],
   "source": [
    "X_train_tensor = torch.FloatTensor(X_train.values)\n",
    "y_train_tensor = torch.FloatTensor(y_train.values)\n",
    "X_valid_tensor = torch.FloatTensor(X_valid.values)\n",
    "y_valid_tensor = torch.FloatTensor(y_valid.values)"
   ]
  },
  {
   "cell_type": "code",
   "execution_count": 21,
   "id": "10651950",
   "metadata": {},
   "outputs": [],
   "source": [
    "X_test_tensor = torch.FloatTensor(X_test_100x_df.values)"
   ]
  },
  {
   "cell_type": "code",
   "execution_count": 69,
   "id": "ea77db03",
   "metadata": {},
   "outputs": [
    {
     "name": "stdout",
     "output_type": "stream",
     "text": [
      "MyNN(\n",
      "  (flatten): Flatten(start_dim=1, end_dim=-1)\n",
      "  (linear_relu_stack): Sequential(\n",
      "    (0): Linear(in_features=32, out_features=128, bias=True)\n",
      "    (1): ReLU()\n",
      "    (2): Linear(in_features=128, out_features=32, bias=True)\n",
      "    (3): ReLU()\n",
      "    (4): Linear(in_features=32, out_features=1, bias=True)\n",
      "  )\n",
      ")\n"
     ]
    }
   ],
   "source": [
    "model = MyNN(32,1)\n",
    "print(model)"
   ]
  },
  {
   "cell_type": "markdown",
   "id": "e20cf4d0",
   "metadata": {},
   "source": [
    "## Define Loss function and optimizer"
   ]
  },
  {
   "cell_type": "code",
   "execution_count": 70,
   "id": "655a63db",
   "metadata": {},
   "outputs": [],
   "source": [
    "criterion = nn.MSELoss()\n",
    "optimizer = optim.Adam(model.parameters(),lr=0.005,weight_decay=0.01)\n",
    "train_loss=[]\n",
    "valid_loss=[]\n",
    "min_valid_loss=99999"
   ]
  },
  {
   "cell_type": "markdown",
   "id": "78798940",
   "metadata": {},
   "source": [
    "## Model Training"
   ]
  },
  {
   "cell_type": "code",
   "execution_count": 71,
   "id": "2ac1cbdc",
   "metadata": {},
   "outputs": [
    {
     "name": "stdout",
     "output_type": "stream",
     "text": [
      "train loss: 0.18915106356143951 valid loss: 0.14145009219646454\n",
      "train loss: 0.08405731618404388 valid loss: 0.10569027066230774\n",
      "train loss: 0.08395204693078995 valid loss: 0.10561441630125046\n",
      "train loss: 0.08394769579172134 valid loss: 0.10561791807413101\n",
      "train loss: 0.08395790308713913 valid loss: 0.10557813942432404\n",
      "train loss: 0.0839373767375946 valid loss: 0.10568011552095413\n",
      "train loss: 0.08395665138959885 valid loss: 0.10554580390453339\n",
      "train loss: 0.08390717208385468 valid loss: 0.1055593341588974\n",
      "train loss: 0.08390570431947708 valid loss: 0.10561024397611618\n",
      "train loss: 0.08389412611722946 valid loss: 0.10560280084609985\n",
      "train loss: 0.08390030264854431 valid loss: 0.10551843047142029\n",
      "train loss: 0.08389072120189667 valid loss: 0.10554042458534241\n",
      "train loss: 0.0839071273803711 valid loss: 0.10548919439315796\n",
      "train loss: 0.08390017598867416 valid loss: 0.10552078485488892\n",
      "train loss: 0.08389648050069809 valid loss: 0.10549795627593994\n",
      "train loss: 0.08389604091644287 valid loss: 0.10567356646060944\n",
      "train loss: 0.0839720070362091 valid loss: 0.10547361522912979\n",
      "train loss: 0.08388061821460724 valid loss: 0.10556604713201523\n",
      "train loss: 0.08387111872434616 valid loss: 0.10552438348531723\n",
      "train loss: 0.08386498689651489 valid loss: 0.10560828447341919\n",
      "train loss: 0.08386918157339096 valid loss: 0.10564766824245453\n",
      "train loss: 0.08386482298374176 valid loss: 0.10555936396121979\n",
      "train loss: 0.08386459201574326 valid loss: 0.10563667863607407\n",
      "train loss: 0.08386345207691193 valid loss: 0.10555709153413773\n",
      "train loss: 0.08386674523353577 valid loss: 0.10554499924182892\n",
      "train loss: 0.0838930681347847 valid loss: 0.10551008582115173\n",
      "train loss: 0.08391711860895157 valid loss: 0.10548603534698486\n",
      "train loss: 0.08389545232057571 valid loss: 0.1054915115237236\n",
      "train loss: 0.08387245982885361 valid loss: 0.10553134977817535\n",
      "train loss: 0.08386699110269547 valid loss: 0.10558917373418808\n",
      "train loss: 0.08386489003896713 valid loss: 0.10561732202768326\n",
      "train loss: 0.08386929333209991 valid loss: 0.10554876178503036\n",
      "train loss: 0.08389341831207275 valid loss: 0.10550899803638458\n",
      "train loss: 0.0839146301150322 valid loss: 0.10548149049282074\n",
      "train loss: 0.08387883752584457 valid loss: 0.10551054775714874\n",
      "train loss: 0.08386878669261932 valid loss: 0.10554556548595428\n",
      "train loss: 0.08386613428592682 valid loss: 0.10560256242752075\n",
      "train loss: 0.0838647335767746 valid loss: 0.10555582493543625\n",
      "train loss: 0.08389195799827576 valid loss: 0.10551014542579651\n",
      "train loss: 0.08391178399324417 valid loss: 0.1054808497428894\n",
      "train loss: 0.08387269824743271 valid loss: 0.10551808029413223\n",
      "train loss: 0.08386803418397903 valid loss: 0.10554562509059906\n",
      "train loss: 0.08386646211147308 valid loss: 0.1056458055973053\n",
      "train loss: 0.08387872576713562 valid loss: 0.10552507638931274\n",
      "train loss: 0.08386120200157166 valid loss: 0.1055600568652153\n",
      "train loss: 0.08389194309711456 valid loss: 0.10563056170940399\n",
      "train loss: 0.08386891335248947 valid loss: 0.10552579909563065\n",
      "train loss: 0.08387080579996109 valid loss: 0.10553255677223206\n",
      "train loss: 0.08387146890163422 valid loss: 0.10553299635648727\n",
      "train loss: 0.0838717594742775 valid loss: 0.10553312301635742\n"
     ]
    }
   ],
   "source": [
    "#train model\n",
    "for epoch in range(5000):\n",
    "    optimizer.zero_grad()\n",
    "    train_outputs = model(X_train_tensor)\n",
    "    train_loss = criterion(train_outputs,y_train_tensor)\n",
    "    train_loss.backward()\n",
    "    optimizer.step()\n",
    "    \n",
    "    with torch.no_grad():\n",
    "        valid_outputs = model(X_valid_tensor)\n",
    "        valid_loss = criterion(valid_outputs,y_valid_tensor)\n",
    "    \n",
    "    if min_valid_loss > valid_loss:\n",
    "        min_valid_loss = valid_loss\n",
    "        torch.save(\n",
    "            {\n",
    "                'epoch':epoch,\n",
    "                'model_state_dict':model.state_dict(),\n",
    "                'optimizer_state_dict':optimizer.state_dict(),\n",
    "                'train_loss':train_loss,\n",
    "                'valid_loss':valid_loss\n",
    "            },\"model.pt\"\n",
    "        )\n",
    "    if epoch%100==0:\n",
    "        print(\"train loss: {} valid loss: {}\".format(train_loss,valid_loss))"
   ]
  },
  {
   "cell_type": "markdown",
   "id": "8e9629c4",
   "metadata": {},
   "source": [
    "## Prediction"
   ]
  },
  {
   "cell_type": "code",
   "execution_count": 74,
   "id": "147c0c1d",
   "metadata": {},
   "outputs": [],
   "source": [
    "test_prediction_tensor = model(X_test_tensor)"
   ]
  },
  {
   "cell_type": "code",
   "execution_count": 39,
   "id": "31466707",
   "metadata": {},
   "outputs": [],
   "source": [
    "test_target = y_test_df['LABEL_bubbleStore_cnt_fst_agg']*100"
   ]
  },
  {
   "cell_type": "code",
   "execution_count": 35,
   "id": "8db2ce61",
   "metadata": {},
   "outputs": [
    {
     "name": "stderr",
     "output_type": "stream",
     "text": [
      "F:\\Users\\zzguk\\Anaconda3\\envs\\NTUHW\\lib\\site-packages\\torch\\nn\\modules\\loss.py:520: UserWarning: Using a target size (torch.Size([7366])) that is different to the input size (torch.Size([7366, 1])). This will likely lead to incorrect results due to broadcasting. Please ensure they have the same size.\n",
      "  return F.mse_loss(input, target, reduction=self.reduction)\n"
     ]
    }
   ],
   "source": [
    "values=criterion(test_prediction,torch.FloatTensor(test_target.values))"
   ]
  },
  {
   "cell_type": "code",
   "execution_count": 36,
   "id": "ddd0ea59",
   "metadata": {},
   "outputs": [
    {
     "data": {
      "text/plain": [
       "0.003762879110481246"
      ]
     },
     "execution_count": 36,
     "metadata": {},
     "output_type": "execute_result"
    }
   ],
   "source": [
    "np.sqrt(values.item()/10000)"
   ]
  },
  {
   "cell_type": "code",
   "execution_count": 44,
   "id": "ad4a2edd",
   "metadata": {},
   "outputs": [],
   "source": [
    "test_target_tensor = torch.FloatTensor(test_target.values)"
   ]
  },
  {
   "cell_type": "code",
   "execution_count": 76,
   "id": "53baa955",
   "metadata": {},
   "outputs": [],
   "source": [
    "test_prediction = test_prediction_tensor.detach().numpy()"
   ]
  },
  {
   "cell_type": "markdown",
   "id": "832f1b93",
   "metadata": {},
   "source": [
    "## Error Calculation"
   ]
  },
  {
   "cell_type": "code",
   "execution_count": 79,
   "id": "e700a92b",
   "metadata": {},
   "outputs": [
    {
     "data": {
      "text/plain": [
       "1.4168115533259323e-05"
      ]
     },
     "execution_count": 79,
     "metadata": {},
     "output_type": "execute_result"
    }
   ],
   "source": [
    "np.square(test_target-test_prediction).mean()/10000"
   ]
  },
  {
   "cell_type": "code",
   "execution_count": 87,
   "id": "891b82ac",
   "metadata": {},
   "outputs": [
    {
     "data": {
      "text/plain": [
       "0.0037640557292977646"
      ]
     },
     "execution_count": 87,
     "metadata": {},
     "output_type": "execute_result"
    }
   ],
   "source": [
    "np.sqrt(np.square(test_target-test_prediction).mean())/100"
   ]
  },
  {
   "cell_type": "code",
   "execution_count": 85,
   "id": "9afe8447",
   "metadata": {},
   "outputs": [],
   "source": [
    "#R2 calculation\n",
    "var_mean = np.square(test_target-test_target.mean()).mean()"
   ]
  },
  {
   "cell_type": "code",
   "execution_count": 86,
   "id": "d01c4f12",
   "metadata": {},
   "outputs": [
    {
     "data": {
      "text/plain": [
       "0.11850210955148112"
      ]
     },
     "execution_count": 86,
     "metadata": {},
     "output_type": "execute_result"
    }
   ],
   "source": [
    "var_mean"
   ]
  },
  {
   "cell_type": "code",
   "execution_count": 82,
   "id": "35aba3ec",
   "metadata": {},
   "outputs": [],
   "source": [
    "var_pred = np.square(test_target-test_prediction).mean()"
   ]
  },
  {
   "cell_type": "code",
   "execution_count": 83,
   "id": "e3d635c6",
   "metadata": {},
   "outputs": [
    {
     "data": {
      "text/plain": [
       "0.14168115533259323"
      ]
     },
     "execution_count": 83,
     "metadata": {},
     "output_type": "execute_result"
    }
   ],
   "source": [
    "var_pred"
   ]
  },
  {
   "cell_type": "code",
   "execution_count": 90,
   "id": "f071b494",
   "metadata": {},
   "outputs": [
    {
     "data": {
      "text/plain": [
       "-0.1956002797658416"
      ]
     },
     "execution_count": 90,
     "metadata": {},
     "output_type": "execute_result"
    }
   ],
   "source": [
    "1-(var_pred/var_mean)"
   ]
  },
  {
   "cell_type": "code",
   "execution_count": 92,
   "id": "198d03aa",
   "metadata": {},
   "outputs": [
    {
     "data": {
      "text/plain": [
       "0.0018175983606310909"
      ]
     },
     "execution_count": 92,
     "metadata": {},
     "output_type": "execute_result"
    }
   ],
   "source": [
    "np.fabs(test_target-test_prediction).mean()/100"
   ]
  },
  {
   "cell_type": "code",
   "execution_count": null,
   "id": "50ac8c0d",
   "metadata": {},
   "outputs": [],
   "source": []
  }
 ],
 "metadata": {
  "kernelspec": {
   "display_name": "NTUHW",
   "language": "python",
   "name": "ntuhw"
  },
  "language_info": {
   "codemirror_mode": {
    "name": "ipython",
    "version": 3
   },
   "file_extension": ".py",
   "mimetype": "text/x-python",
   "name": "python",
   "nbconvert_exporter": "python",
   "pygments_lexer": "ipython3",
   "version": "3.7.11"
  }
 },
 "nbformat": 4,
 "nbformat_minor": 5
}
