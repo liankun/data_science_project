{
 "cells": [
  {
   "cell_type": "markdown",
   "id": "a43d8179",
   "metadata": {},
   "source": [
    "## Neuron Network for the second data set"
   ]
  },
  {
   "cell_type": "markdown",
   "id": "086ffbff",
   "metadata": {},
   "source": [
    "## Data Preprocessing"
   ]
  },
  {
   "cell_type": "code",
   "execution_count": 1,
   "id": "a6444c74",
   "metadata": {},
   "outputs": [],
   "source": [
    "import numpy as np\n",
    "import pickle\n",
    "import pandas as pd"
   ]
  },
  {
   "cell_type": "code",
   "execution_count": 2,
   "id": "fda863f0",
   "metadata": {},
   "outputs": [],
   "source": [
    "with open('sndAgg.pkl','rb') as handle:\n",
    "    unserialized_data = pickle.load(handle)"
   ]
  },
  {
   "cell_type": "code",
   "execution_count": 3,
   "id": "d0fb1c0a",
   "metadata": {},
   "outputs": [],
   "source": [
    "X_train_df = unserialized_data['X_train_df']\n",
    "X_test_df = unserialized_data['X_test_df']\n",
    "y_train_df = unserialized_data['y_train_df']\n",
    "y_test_df = unserialized_data['y_test_df']"
   ]
  },
  {
   "cell_type": "code",
   "execution_count": 4,
   "id": "81cb0e0e",
   "metadata": {},
   "outputs": [],
   "source": [
    "X_train_df = X_train_df.astype(\"float\")\n",
    "X_test_df = X_test_df.astype(\"float\")"
   ]
  },
  {
   "cell_type": "code",
   "execution_count": 5,
   "id": "d63bd6a1",
   "metadata": {},
   "outputs": [],
   "source": [
    "y_train_df.drop(columns=['zip'],axis=1,inplace=True)"
   ]
  },
  {
   "cell_type": "code",
   "execution_count": 6,
   "id": "bea2759f",
   "metadata": {},
   "outputs": [],
   "source": [
    "y_train_df=y_train_df.astype('float')"
   ]
  },
  {
   "cell_type": "code",
   "execution_count": 7,
   "id": "1a88a7bb",
   "metadata": {},
   "outputs": [],
   "source": [
    "y_test_df['LABEL_bubbleStore_cnt_snd_agg'] = y_test_df['LABEL_bubbleStore_cnt_snd_agg'].astype('float')"
   ]
  },
  {
   "cell_type": "markdown",
   "id": "e09753ae",
   "metadata": {},
   "source": [
    "## Define Model"
   ]
  },
  {
   "cell_type": "code",
   "execution_count": 13,
   "id": "101f80d0",
   "metadata": {},
   "outputs": [],
   "source": [
    "import torch\n",
    "from torch import nn\n",
    "from torch.utils.data import DataLoader\n",
    "from sklearn.model_selection import train_test_split\n",
    "import torch.optim as optim\n",
    "import torch.nn.functional as F"
   ]
  },
  {
   "cell_type": "code",
   "execution_count": 29,
   "id": "c7551ea8",
   "metadata": {},
   "outputs": [],
   "source": [
    "class MyNN(nn.Module):\n",
    "    def __init__(self, in_num,out_num):\n",
    "        super(MyNN,self).__init__()\n",
    "        self.flatten = nn.Flatten()\n",
    "        self.in_node = in_num\n",
    "        self.out_node = out_num\n",
    "        self.linear_relu_stack = nn.Sequential(\n",
    "            nn.Linear(in_num,64),\n",
    "            nn.ReLU(),\n",
    "            nn.Linear(64,32),\n",
    "            nn.ReLU(),\n",
    "            nn.Linear(32 ,out_num),\n",
    "        )\n",
    "        \n",
    "    def forward(self,x):\n",
    "        logits = self.linear_relu_stack(x)\n",
    "        return logits"
   ]
  },
  {
   "cell_type": "code",
   "execution_count": 15,
   "id": "def01e29",
   "metadata": {},
   "outputs": [],
   "source": [
    "# rescale the value \n",
    "y_train_100x_df = y_train_df*100"
   ]
  },
  {
   "cell_type": "code",
   "execution_count": 17,
   "id": "f2348b88",
   "metadata": {},
   "outputs": [],
   "source": [
    "X_train_100x_df = X_train_df*100"
   ]
  },
  {
   "cell_type": "code",
   "execution_count": 18,
   "id": "710fb322",
   "metadata": {},
   "outputs": [],
   "source": [
    "X_test_100x_df = X_test_df*100"
   ]
  },
  {
   "cell_type": "code",
   "execution_count": 20,
   "id": "50e13f8d",
   "metadata": {},
   "outputs": [],
   "source": [
    "X_train, X_valid,y_train,y_valid = train_test_split(X_train_100x_df,y_train_100x_df,test_size=0.3)"
   ]
  },
  {
   "cell_type": "code",
   "execution_count": 24,
   "id": "77527769",
   "metadata": {},
   "outputs": [],
   "source": [
    "X_train_tensor = torch.FloatTensor(X_train.values)\n",
    "y_train_tensor = torch.FloatTensor(y_train.values)\n",
    "X_valid_tensor = torch.FloatTensor(X_valid.values)\n",
    "y_valid_tensor = torch.FloatTensor(y_valid.values)"
   ]
  },
  {
   "cell_type": "code",
   "execution_count": 25,
   "id": "10651950",
   "metadata": {},
   "outputs": [],
   "source": [
    "X_test_tensor = torch.FloatTensor(X_test_100x_df.values)"
   ]
  },
  {
   "cell_type": "code",
   "execution_count": 30,
   "id": "ea77db03",
   "metadata": {},
   "outputs": [
    {
     "name": "stdout",
     "output_type": "stream",
     "text": [
      "MyNN(\n",
      "  (flatten): Flatten(start_dim=1, end_dim=-1)\n",
      "  (linear_relu_stack): Sequential(\n",
      "    (0): Linear(in_features=32, out_features=64, bias=True)\n",
      "    (1): ReLU()\n",
      "    (2): Linear(in_features=64, out_features=32, bias=True)\n",
      "    (3): ReLU()\n",
      "    (4): Linear(in_features=32, out_features=1, bias=True)\n",
      "  )\n",
      ")\n"
     ]
    }
   ],
   "source": [
    "model = MyNN(32,1)\n",
    "print(model)"
   ]
  },
  {
   "cell_type": "markdown",
   "id": "a096fc55",
   "metadata": {},
   "source": [
    "## Define Loss and Train the Model"
   ]
  },
  {
   "cell_type": "code",
   "execution_count": 31,
   "id": "655a63db",
   "metadata": {},
   "outputs": [],
   "source": [
    "criterion = nn.MSELoss()\n",
    "optimizer = optim.Adam(model.parameters(),lr=0.005,weight_decay=0.01)\n",
    "train_loss=[]\n",
    "valid_loss=[]\n",
    "min_valid_loss=99999"
   ]
  },
  {
   "cell_type": "code",
   "execution_count": 32,
   "id": "2ac1cbdc",
   "metadata": {},
   "outputs": [
    {
     "name": "stdout",
     "output_type": "stream",
     "text": [
      "train loss: 0.08186665177345276 valid loss: 0.0728738084435463\n",
      "train loss: 0.05980592593550682 valid loss: 0.06553380191326141\n",
      "train loss: 0.05978624150156975 valid loss: 0.0655238926410675\n",
      "train loss: 0.059783387929201126 valid loss: 0.06552518904209137\n",
      "train loss: 0.0597822479903698 valid loss: 0.0655241310596466\n",
      "train loss: 0.059778738766908646 valid loss: 0.06553121656179428\n",
      "train loss: 0.05982018634676933 valid loss: 0.06549257040023804\n",
      "train loss: 0.059780463576316833 valid loss: 0.06552974134683609\n",
      "train loss: 0.05979102477431297 valid loss: 0.06550852954387665\n",
      "train loss: 0.05978626385331154 valid loss: 0.06559213995933533\n",
      "train loss: 0.0597958080470562 valid loss: 0.06550107896327972\n",
      "train loss: 0.05977688357234001 valid loss: 0.06555711477994919\n",
      "train loss: 0.05977590009570122 valid loss: 0.06555159389972687\n",
      "train loss: 0.05977656692266464 valid loss: 0.06560638546943665\n",
      "train loss: 0.059780947864055634 valid loss: 0.06560058146715164\n",
      "train loss: 0.05978967249393463 valid loss: 0.06550662219524384\n",
      "train loss: 0.05977996811270714 valid loss: 0.06553053855895996\n",
      "train loss: 0.05978408455848694 valid loss: 0.06551912426948547\n",
      "train loss: 0.059777457267045975 valid loss: 0.06556831300258636\n",
      "train loss: 0.0597800575196743 valid loss: 0.06553108990192413\n",
      "train loss: 0.05978414788842201 valid loss: 0.0655190572142601\n",
      "train loss: 0.059793177992105484 valid loss: 0.06551672518253326\n",
      "train loss: 0.05981618911027908 valid loss: 0.06548839807510376\n",
      "train loss: 0.05978650227189064 valid loss: 0.06552278995513916\n",
      "train loss: 0.05978358909487724 valid loss: 0.06554420292377472\n",
      "train loss: 0.05977817624807358 valid loss: 0.06554364413022995\n",
      "train loss: 0.059779420495033264 valid loss: 0.06557552516460419\n",
      "train loss: 0.05978602543473244 valid loss: 0.06551884859800339\n",
      "train loss: 0.05983073264360428 valid loss: 0.06549050658941269\n",
      "train loss: 0.05979493260383606 valid loss: 0.06550808995962143\n",
      "train loss: 0.0597895123064518 valid loss: 0.06551409512758255\n",
      "train loss: 0.059775397181510925 valid loss: 0.06557334214448929\n",
      "train loss: 0.05977571755647659 valid loss: 0.06556658446788788\n",
      "train loss: 0.059774674475193024 valid loss: 0.06556887179613113\n",
      "train loss: 0.05977809429168701 valid loss: 0.06554519385099411\n",
      "train loss: 0.059807274490594864 valid loss: 0.06550393253564835\n",
      "train loss: 0.059779271483421326 valid loss: 0.06553690880537033\n",
      "train loss: 0.05977480486035347 valid loss: 0.06557633727788925\n",
      "train loss: 0.059809982776641846 valid loss: 0.06550315022468567\n",
      "train loss: 0.059775128960609436 valid loss: 0.06556876003742218\n",
      "train loss: 0.0597754567861557 valid loss: 0.0655563548207283\n",
      "train loss: 0.059777356684207916 valid loss: 0.06554187834262848\n",
      "train loss: 0.059775978326797485 valid loss: 0.06555058807134628\n",
      "train loss: 0.059782762080430984 valid loss: 0.06553397327661514\n",
      "train loss: 0.05979105085134506 valid loss: 0.06558368355035782\n",
      "train loss: 0.05977440997958183 valid loss: 0.06558576971292496\n",
      "train loss: 0.05978088080883026 valid loss: 0.06553297489881516\n",
      "train loss: 0.05977527052164078 valid loss: 0.06555727124214172\n",
      "train loss: 0.059776630252599716 valid loss: 0.0655473917722702\n",
      "train loss: 0.05977816507220268 valid loss: 0.06554187089204788\n"
     ]
    }
   ],
   "source": [
    "#train model\n",
    "for epoch in range(5000):\n",
    "    optimizer.zero_grad()\n",
    "    train_outputs = model(X_train_tensor)\n",
    "    train_loss = criterion(train_outputs,y_train_tensor)\n",
    "    train_loss.backward()\n",
    "    optimizer.step()\n",
    "    \n",
    "    with torch.no_grad():\n",
    "        valid_outputs = model(X_valid_tensor)\n",
    "        valid_loss = criterion(valid_outputs,y_valid_tensor)\n",
    "    \n",
    "    if min_valid_loss > valid_loss:\n",
    "        min_valid_loss = valid_loss\n",
    "        torch.save(\n",
    "            {\n",
    "                'epoch':epoch,\n",
    "                'model_state_dict':model.state_dict(),\n",
    "                'optimizer_state_dict':optimizer.state_dict(),\n",
    "                'train_loss':train_loss,\n",
    "                'valid_loss':valid_loss\n",
    "            },\"model.pt\"\n",
    "        )\n",
    "    if epoch%100==0:\n",
    "        print(\"train loss: {} valid loss: {}\".format(train_loss,valid_loss))"
   ]
  },
  {
   "cell_type": "markdown",
   "id": "841a91cd",
   "metadata": {},
   "source": [
    "## Prediction"
   ]
  },
  {
   "cell_type": "code",
   "execution_count": 33,
   "id": "147c0c1d",
   "metadata": {},
   "outputs": [],
   "source": [
    "test_prediction_tensor = model(X_test_tensor)"
   ]
  },
  {
   "cell_type": "code",
   "execution_count": 34,
   "id": "c1d396d0",
   "metadata": {},
   "outputs": [
    {
     "data": {
      "text/plain": [
       "tensor([[0.2089],\n",
       "        [0.2424],\n",
       "        [0.3816],\n",
       "        ...,\n",
       "        [0.0223],\n",
       "        [0.1386],\n",
       "        [0.0630]], grad_fn=<AddmmBackward0>)"
      ]
     },
     "execution_count": 34,
     "metadata": {},
     "output_type": "execute_result"
    }
   ],
   "source": [
    "test_prediction_tensor"
   ]
  },
  {
   "cell_type": "code",
   "execution_count": 40,
   "id": "31466707",
   "metadata": {},
   "outputs": [],
   "source": [
    "test_target = y_test_df['LABEL_bubbleStore_cnt_snd_agg']*100"
   ]
  },
  {
   "cell_type": "code",
   "execution_count": 41,
   "id": "cd959cdf",
   "metadata": {},
   "outputs": [
    {
     "data": {
      "text/plain": [
       "0    0.179599\n",
       "1    0.392210\n",
       "2    1.544271\n",
       "3    0.144896\n",
       "4    0.000000\n",
       "Name: LABEL_bubbleStore_cnt_snd_agg, dtype: float64"
      ]
     },
     "execution_count": 41,
     "metadata": {},
     "output_type": "execute_result"
    }
   ],
   "source": [
    "test_target.head()"
   ]
  },
  {
   "cell_type": "code",
   "execution_count": 43,
   "id": "1a34dffc",
   "metadata": {},
   "outputs": [
    {
     "data": {
      "text/html": [
       "<div>\n",
       "<style scoped>\n",
       "    .dataframe tbody tr th:only-of-type {\n",
       "        vertical-align: middle;\n",
       "    }\n",
       "\n",
       "    .dataframe tbody tr th {\n",
       "        vertical-align: top;\n",
       "    }\n",
       "\n",
       "    .dataframe thead th {\n",
       "        text-align: right;\n",
       "    }\n",
       "</style>\n",
       "<table border=\"1\" class=\"dataframe\">\n",
       "  <thead>\n",
       "    <tr style=\"text-align: right;\">\n",
       "      <th></th>\n",
       "      <th>LABEL_bubbleStore_cnt_fst_agg</th>\n",
       "      <th>zip</th>\n",
       "    </tr>\n",
       "  </thead>\n",
       "  <tbody>\n",
       "    <tr>\n",
       "      <th>0</th>\n",
       "      <td>0.000000</td>\n",
       "      <td>68381</td>\n",
       "    </tr>\n",
       "    <tr>\n",
       "      <th>1</th>\n",
       "      <td>0.000458</td>\n",
       "      <td>51441</td>\n",
       "    </tr>\n",
       "    <tr>\n",
       "      <th>2</th>\n",
       "      <td>0.001045</td>\n",
       "      <td>62023</td>\n",
       "    </tr>\n",
       "    <tr>\n",
       "      <th>3</th>\n",
       "      <td>0.001053</td>\n",
       "      <td>54442</td>\n",
       "    </tr>\n",
       "    <tr>\n",
       "      <th>4</th>\n",
       "      <td>0.001924</td>\n",
       "      <td>45786</td>\n",
       "    </tr>\n",
       "  </tbody>\n",
       "</table>\n",
       "</div>"
      ],
      "text/plain": [
       "   LABEL_bubbleStore_cnt_fst_agg    zip\n",
       "0                       0.000000  68381\n",
       "1                       0.000458  51441\n",
       "2                       0.001045  62023\n",
       "3                       0.001053  54442\n",
       "4                       0.001924  45786"
      ]
     },
     "execution_count": 43,
     "metadata": {},
     "output_type": "execute_result"
    }
   ],
   "source": [
    "y_test_df.head()"
   ]
  },
  {
   "cell_type": "code",
   "execution_count": 42,
   "id": "b48cf16d",
   "metadata": {},
   "outputs": [],
   "source": [
    "test_target = test_target.values"
   ]
  },
  {
   "cell_type": "code",
   "execution_count": 35,
   "id": "8db2ce61",
   "metadata": {},
   "outputs": [
    {
     "name": "stderr",
     "output_type": "stream",
     "text": [
      "F:\\Users\\zzguk\\Anaconda3\\envs\\NTUHW\\lib\\site-packages\\torch\\nn\\modules\\loss.py:520: UserWarning: Using a target size (torch.Size([7366])) that is different to the input size (torch.Size([7366, 1])). This will likely lead to incorrect results due to broadcasting. Please ensure they have the same size.\n",
      "  return F.mse_loss(input, target, reduction=self.reduction)\n"
     ]
    }
   ],
   "source": [
    "values=criterion(test_prediction,torch.FloatTensor(test_target.values))"
   ]
  },
  {
   "cell_type": "code",
   "execution_count": 36,
   "id": "ddd0ea59",
   "metadata": {},
   "outputs": [
    {
     "data": {
      "text/plain": [
       "0.003762879110481246"
      ]
     },
     "execution_count": 36,
     "metadata": {},
     "output_type": "execute_result"
    }
   ],
   "source": [
    "np.sqrt(values.item()/10000)"
   ]
  },
  {
   "cell_type": "code",
   "execution_count": 44,
   "id": "ad4a2edd",
   "metadata": {},
   "outputs": [],
   "source": [
    "test_target_tensor = torch.FloatTensor(test_target.values)"
   ]
  },
  {
   "cell_type": "code",
   "execution_count": 37,
   "id": "b341bcea",
   "metadata": {},
   "outputs": [],
   "source": [
    "test_prediction = test_prediction_tensor.detach().numpy()"
   ]
  },
  {
   "cell_type": "code",
   "execution_count": 38,
   "id": "d06a0b4a",
   "metadata": {},
   "outputs": [
    {
     "data": {
      "text/plain": [
       "array([[0.20886989],\n",
       "       [0.24237357],\n",
       "       [0.38161415],\n",
       "       ...,\n",
       "       [0.02226595],\n",
       "       [0.13863654],\n",
       "       [0.06301777]], dtype=float32)"
      ]
     },
     "execution_count": 38,
     "metadata": {},
     "output_type": "execute_result"
    }
   ],
   "source": [
    "test_prediction"
   ]
  },
  {
   "cell_type": "code",
   "execution_count": 43,
   "id": "d115982b",
   "metadata": {},
   "outputs": [
    {
     "data": {
      "text/plain": [
       "8.860649831004502e-06"
      ]
     },
     "execution_count": 43,
     "metadata": {},
     "output_type": "execute_result"
    }
   ],
   "source": [
    "np.square(test_target-test_prediction).mean()/10000"
   ]
  },
  {
   "cell_type": "code",
   "execution_count": 44,
   "id": "acf46dea",
   "metadata": {},
   "outputs": [
    {
     "data": {
      "text/plain": [
       "0.0029766843687237823"
      ]
     },
     "execution_count": 44,
     "metadata": {},
     "output_type": "execute_result"
    }
   ],
   "source": [
    "np.sqrt(np.square(test_target-test_prediction).mean())/100"
   ]
  },
  {
   "cell_type": "code",
   "execution_count": 45,
   "id": "fd876a0b",
   "metadata": {},
   "outputs": [],
   "source": [
    "#R2 calculation\n",
    "var_mean = np.square(test_target-test_target.mean()).mean()"
   ]
  },
  {
   "cell_type": "code",
   "execution_count": 46,
   "id": "aff87081",
   "metadata": {},
   "outputs": [
    {
     "data": {
      "text/plain": [
       "0.07487194416026427"
      ]
     },
     "execution_count": 46,
     "metadata": {},
     "output_type": "execute_result"
    }
   ],
   "source": [
    "var_mean"
   ]
  },
  {
   "cell_type": "code",
   "execution_count": 47,
   "id": "4eede6f6",
   "metadata": {},
   "outputs": [],
   "source": [
    "var_pred = np.square(test_target-test_prediction).mean()"
   ]
  },
  {
   "cell_type": "code",
   "execution_count": 48,
   "id": "8a6ef2a6",
   "metadata": {},
   "outputs": [
    {
     "data": {
      "text/plain": [
       "0.08860649831004502"
      ]
     },
     "execution_count": 48,
     "metadata": {},
     "output_type": "execute_result"
    }
   ],
   "source": [
    "var_pred"
   ]
  },
  {
   "cell_type": "code",
   "execution_count": 49,
   "id": "bb31355f",
   "metadata": {},
   "outputs": [
    {
     "data": {
      "text/plain": [
       "-0.18344059719327954"
      ]
     },
     "execution_count": 49,
     "metadata": {},
     "output_type": "execute_result"
    }
   ],
   "source": [
    "1-(var_pred/var_mean)"
   ]
  },
  {
   "cell_type": "code",
   "execution_count": 50,
   "id": "81d666ef",
   "metadata": {},
   "outputs": [
    {
     "data": {
      "text/plain": [
       "0.0014606718571617441"
      ]
     },
     "execution_count": 50,
     "metadata": {},
     "output_type": "execute_result"
    }
   ],
   "source": [
    "np.fabs(test_target-test_prediction).mean()/100"
   ]
  },
  {
   "cell_type": "code",
   "execution_count": null,
   "id": "0f3a2cd5",
   "metadata": {},
   "outputs": [],
   "source": []
  }
 ],
 "metadata": {
  "kernelspec": {
   "display_name": "NTUHW",
   "language": "python",
   "name": "ntuhw"
  },
  "language_info": {
   "codemirror_mode": {
    "name": "ipython",
    "version": 3
   },
   "file_extension": ".py",
   "mimetype": "text/x-python",
   "name": "python",
   "nbconvert_exporter": "python",
   "pygments_lexer": "ipython3",
   "version": "3.7.11"
  }
 },
 "nbformat": 4,
 "nbformat_minor": 5
}
